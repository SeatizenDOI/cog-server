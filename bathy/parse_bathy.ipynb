{
 "cells": [
  {
   "cell_type": "code",
   "execution_count": 1,
   "metadata": {},
   "outputs": [
    {
     "name": "stdout",
     "output_type": "stream",
     "text": [
      "325 177\n"
     ]
    }
   ],
   "source": [
    "import pandas as pd\n",
    "from pathlib import Path\n",
    "\n",
    "df = pd.read_csv(\"campagne.csv\")\n",
    "\n",
    "df2 = df[df[\"verification\"] == \"v1\"]\n",
    "df2 = df2[df2[\"bathy (yes/no)\"] == \"yes\"]\n",
    "\n",
    "print(len(df), len(df2))"
   ]
  },
  {
   "cell_type": "code",
   "execution_count": 10,
   "metadata": {},
   "outputs": [],
   "source": [
    "def get_path(row):\n",
    "    name = row[\"session name\"]\n",
    "\n",
    "    date = name.split(\"_\")[0][0:6]\n",
    "\n",
    "\n",
    "    letter_disk = \"\"\n",
    "    if date in [\"202312\", \"202311\"]:\n",
    "        letter_disk = \"D\"\n",
    "    elif date in [\"202211\", \"202309\", \"202310\"]:\n",
    "        letter_disk = \"E1\"\n",
    "    else:\n",
    "        letter_disk = \"F\"\n",
    "\n",
    "    if 1 <= int(date[5]) <= 7 and int(date[3]) == 3 and int(date[4]) == 0 and \"MDG\" not in name:\n",
    "        date = \"202301-07\"\n",
    "\n",
    "    return f\"/media/bioeos/{letter_disk}/{date}_plancha_session\"\n",
    "\n",
    "df2[\"root_path\"] = df2.apply(lambda row: get_path(row), axis=1)\n",
    "\n",
    "df3 = df2[[\"root_path\", \"session name\"]]\n",
    "df3.to_csv(\"filter.csv\", index=False)"
   ]
  },
  {
   "cell_type": "code",
   "execution_count": 12,
   "metadata": {},
   "outputs": [],
   "source": [
    "from pathlib import Path\n",
    "import shutil \n",
    "for i, row in df3.iterrows():\n",
    "\n",
    "    if \"2025\" not in row[\"session name\"]: continue\n",
    "    bathy_raster = Path(row[\"root_path\"], row[\"session name\"], \"PROCESSED_DATA\", \"BATHY\", f\"{row['session name']}_bathy_raster-linear.tif\")\n",
    "\n",
    "\n",
    "    if not bathy_raster.exists():\n",
    "        print(\"Aled\", bathy_raster)\n",
    "    else:\n",
    "        shutil.copy(bathy_raster, f\"/home/bioeos/Documents/project_hub/tms-server/bathy/data/{bathy_raster.name}\")"
   ]
  },
  {
   "cell_type": "code",
   "execution_count": 1,
   "metadata": {},
   "outputs": [],
   "source": [
    "from pathlib import Path\n",
    "import shutil\n",
    "\n",
    "output = Path(\"/home/bioeos/Documents/project_hub/tms-server/bathy/data\")\n",
    "output.mkdir(exist_ok=True)\n",
    "for subfolder in Path(\"/home/bioeos/Documents/project_hub/tms-server/bathy/BATHY_RASTER\").iterdir():\n",
    "    for file in subfolder.iterdir():\n",
    "        shutil.copy(file, Path(output, file.name))"
   ]
  }
 ],
 "metadata": {
  "kernelspec": {
   "display_name": "zenodo_env",
   "language": "python",
   "name": "python3"
  },
  "language_info": {
   "codemirror_mode": {
    "name": "ipython",
    "version": 3
   },
   "file_extension": ".py",
   "mimetype": "text/x-python",
   "name": "python",
   "nbconvert_exporter": "python",
   "pygments_lexer": "ipython3",
   "version": "3.11.10"
  }
 },
 "nbformat": 4,
 "nbformat_minor": 2
}
