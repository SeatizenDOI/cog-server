{
 "cells": [
  {
   "cell_type": "code",
   "execution_count": 3,
   "id": "a352f9e6",
   "metadata": {},
   "outputs": [],
   "source": [
    "import shutil\n",
    "from pathlib import Path\n",
    "\n",
    "UNSORTED_COGS = Path(\"./data/rasters_color\")\n",
    "SORTED_COGS = Path(\"./data/sorted_raster\")\n",
    "\n",
    "if not UNSORTED_COGS.exists():\n",
    "    raise FileNotFoundError(\"Cannot found unsorted cogs\")\n",
    "\n",
    "SORTED_COGS.mkdir(exist_ok=True, parents=True)"
   ]
  },
  {
   "cell_type": "code",
   "execution_count": 4,
   "id": "627098f7",
   "metadata": {},
   "outputs": [],
   "source": [
    "for file in UNSORTED_COGS.iterdir():\n",
    "    year = file.name.split('-')[1]\n",
    "\n",
    "    folder_output_year = Path(SORTED_COGS, year)\n",
    "    folder_output_year.mkdir(exist_ok=True, parents=True)\n",
    "\n",
    "    shutil.copy(file, Path(folder_output_year, file.name))\n"
   ]
  }
 ],
 "metadata": {
  "kernelspec": {
   "display_name": "cog_server_env",
   "language": "python",
   "name": "python3"
  },
  "language_info": {
   "codemirror_mode": {
    "name": "ipython",
    "version": 3
   },
   "file_extension": ".py",
   "mimetype": "text/x-python",
   "name": "python",
   "nbconvert_exporter": "python",
   "pygments_lexer": "ipython3",
   "version": "3.13.5"
  }
 },
 "nbformat": 4,
 "nbformat_minor": 5
}
